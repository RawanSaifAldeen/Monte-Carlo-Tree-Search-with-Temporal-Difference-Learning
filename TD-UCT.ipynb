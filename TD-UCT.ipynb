{
 "cells": [
  {
   "cell_type": "code",
   "execution_count": 1,
   "metadata": {},
   "outputs": [],
   "source": [
    "import numpy as np\n",
    "import pandas as pd\n",
    "import gym\n",
    "import random\n",
    "import time\n",
    "import math\n",
    "import copy\n",
    "import pickle\n",
    "from gym.core import Wrapper\n",
    "from pickle import dumps, loads\n",
    "from IPython.display import clear_output\n",
    "import matplotlib.pyplot as plt\n",
    "from scipy import stats"
   ]
  },
  {
   "cell_type": "markdown",
   "metadata": {},
   "source": [
    "### Classes and functions:"
   ]
  },
  {
   "cell_type": "code",
   "execution_count": 2,
   "metadata": {},
   "outputs": [],
   "source": [
    "class EnvWithSnapShots(Wrapper):\n",
    "    '''\n",
    "    A wrapper to allow for taking\\loading snapshots of the game environment.\n",
    "    It also allows for performing an action on a given snapshot and return the resulting game snapshot along with the original return values. \n",
    "    '''\n",
    "    \n",
    "    def get_snapshot(self):\n",
    "        return dumps(self.env)\n",
    "    \n",
    "    def load_snapshot(self, snapshot):\n",
    "        self.env = loads(snapshot)\n",
    "    \n",
    "    def perform_action(self, snapshot , action):\n",
    "        self.load_snapshot(snapshot)\n",
    "        next_state, reward, done, info = self.step(action)\n",
    "        next_snapshot = self.get_snapshot()\n",
    "        \n",
    "        return (next_snapshot, next_state, reward, done, info)"
   ]
  },
  {
   "cell_type": "code",
   "execution_count": 3,
   "metadata": {},
   "outputs": [],
   "source": [
    "class MCTSNode():\n",
    "    '''\n",
    "    The Search Tree Nodes and their associated operations.\n",
    "    '''\n",
    "    def __init__(self, parent_snapshot, parent=None, move= None, gamma= 0.95, alpha=0.01, w_td =0.5, C=1):\n",
    "        self.is_fully_expanded = False\n",
    "        self.move = move\n",
    "        self.parent = parent\n",
    "        self.children = set()\n",
    "        self.TD_Q = 0\n",
    "        self.total_value = 0\n",
    "        self.number_visits = 0\n",
    "        self.terminal = False\n",
    "        self.reward = 0\n",
    "        self.gamma = gamma\n",
    "        self.w_td = w_td\n",
    "        self.C = C\n",
    "        self.alpha = alpha\n",
    "        \n",
    "        # get its game snapshot by performing the action on the parent node's game snapshot\n",
    "        if parent is not None:\n",
    "            self.snapshot, self.state, self.reward, self.terminal, _ = env.perform_action(parent_snapshot, self.move)\n",
    "        else: # if it is the root node, get the passed on snapshot which is the start of the game\n",
    "            self.snapshot = parent_snapshot  \n",
    "        \n",
    "    def get_mean_value(self):\n",
    "        return self.total_value / self.number_visits if self.number_visits != 0 else 0\n",
    "    \n",
    "    def get_TD_UCB1(self, w_td=None, C=None, infinity = 1e100):\n",
    "        if w_td == None: w_td= self.w_td\n",
    "        if C == None: C= self.C\n",
    "            \n",
    "        if self.number_visits == 0:\n",
    "            return infinity\n",
    "        else:\n",
    "            Q = self.get_mean_value()\n",
    "            U = np.sqrt(2*np.log(self.parent.number_visits) / (self.number_visits))\n",
    "            return w_td*self.TD_Q + (1.0-w_td)*Q + C*U\n",
    "\n",
    "    def choose_child(self):         \n",
    "        return max(self.children , key=MCTSNode.get_TD_UCB1)\n",
    "\n",
    "    def select(self):\n",
    "        if not self.terminal:\n",
    "            if not self.is_fully_expanded:\n",
    "                return self.expand()\n",
    "            else:\n",
    "                child = self.choose_child()\n",
    "                return child.select()\n",
    "        else:\n",
    "            return self\n",
    "    \n",
    "    def expand(self):\n",
    "        not_visited_children = list(range(env.action_space.n))\n",
    "        for child in self.children:\n",
    "            not_visited_children.remove(child.move)\n",
    "        child = self.add_child(random.choice(not_visited_children))\n",
    "        if len(self.children) == env.action_space.n:\n",
    "            self.is_fully_expanded = True\n",
    "        return child\n",
    "\n",
    "    def add_child(self, move):\n",
    "        child = MCTSNode(self.snapshot ,parent = self , move = move, gamma= self.gamma,\n",
    "                                                 alpha=self.alpha, w_td = self.w_td, C=self.C)\n",
    "        self.children.add(child)\n",
    "        return child\n",
    "    \n",
    "    def rollout(self):\n",
    "        env.load_snapshot(self.snapshot)\n",
    "        done = self.terminal\n",
    "        steps = 0\n",
    "        reward = 0\n",
    "        while not done: \n",
    "            _, reward, done, _ = env.step(env.action_space.sample())\n",
    "            steps += 1\n",
    "        return reward, steps\n",
    "    \n",
    "    def backpropagate(self, value_estimate, TD_Q , steps, leaf=True):\n",
    "        self.total_value += value_estimate\n",
    "        self.number_visits += 1\n",
    "        # updating its V_td\n",
    "        if leaf: self.TD_Q = (1-self.alpha)*self.TD_Q + self.alpha*(self.reward + (self.gamma**steps)*value_estimate)\n",
    "        else: self.TD_Q = (1-self.alpha)*self.TD_Q + self.alpha*(self.reward + self.gamma*TD_Q)\n",
    "        # back them up if there is a parent\n",
    "        if self.parent is not None:\n",
    "            self.parent.backpropagate(value_estimate, self.TD_Q, steps, leaf=False)\n",
    "            \n",
    "    def best_child(self):\n",
    "        Q_vals = [child.get_TD_UCB1(C = 0) for child in self.children]\n",
    "        m = max(Q_vals)\n",
    "        child = random.choice([child for child in self.children if child.get_TD_UCB1(C = 0) == m])\n",
    "        return child "
   ]
  },
  {
   "cell_type": "code",
   "execution_count": 4,
   "metadata": {},
   "outputs": [],
   "source": [
    "# The main function for the Monte Carlo Tree Search \n",
    "def monte_carlo_tree_search(starting_env, iterations, gamma= 0.95, alpha=0.01, w_td =0.5, C=1): \n",
    "    root = MCTSNode(starting_env, gamma= gamma, alpha=alpha, w_td = w_td, C=C)\n",
    "    for _ in range(iterations): \n",
    "        leaf = root.select()\n",
    "        simulation_result, steps = leaf.rollout() \n",
    "        leaf.backpropagate(simulation_result, 0, steps)\n",
    "    return root.best_child() "
   ]
  },
  {
   "cell_type": "code",
   "execution_count": 5,
   "metadata": {},
   "outputs": [],
   "source": [
    "def evaluate_MCTS(env, n_episodes, simulation_range, show_game=False, gamma= 0.95, alpha=0.01, w_td =0.5, C=1):\n",
    "    '''\n",
    "    This function is made for obtianing the results of using different parameters.\n",
    "    \n",
    "    Variables:\n",
    "    env: the instatiated gym environment object\n",
    "    n_episodes: an integer indicating the number of times each setupe is run untill completion (the number of game plays)\n",
    "    simulation_range : a range of the number of simulations run before taking a move\n",
    "    show_game : a boolean indicating wether to show the game board and the results or not. defult = False\n",
    "    '''\n",
    "    max_steps_per_episode = 100\n",
    "    \n",
    "    sims = list(simulation_range)\n",
    "    columns = ['Won', 'n_steps_before_winning_mean', 'n_steps_before_winning_standardError']\n",
    "    Results = pd.DataFrame(index=sims, columns=columns)\n",
    "    \n",
    "    for sim_trial in simulation_range:\n",
    "        print('Number of simulations per move: ', sim_trial)\n",
    "    \n",
    "        losses = 0\n",
    "        wins = 0\n",
    "        steps = []\n",
    "\n",
    "        for episode in range(n_episodes):\n",
    "            state = env.reset()\n",
    "            done = False\n",
    "            \n",
    "            if show_game:\n",
    "                print(\"*****EPISODE \", episode+1, \"*****\\n\\n\\n\\n\")\n",
    "                time.sleep(1)\n",
    "\n",
    "            for step in range(max_steps_per_episode):   \n",
    "                if show_game:\n",
    "                    clear_output(wait=True)\n",
    "                    env.render()\n",
    "                    print('thinking...')\n",
    "                    time.sleep(0.3)\n",
    "                    \n",
    "                env_snapshot = env.get_snapshot()\n",
    "                action = monte_carlo_tree_search(env_snapshot, sim_trial, gamma= gamma, alpha=alpha, w_td = w_td, C=C).move   \n",
    "                env.load_snapshot(env_snapshot)\n",
    "                new_state, reward, done, info = env.step(action)\n",
    "                \n",
    "                if show_game:\n",
    "                    clear_output(wait=True)\n",
    "                    env.render()\n",
    "\n",
    "                if done:\n",
    "                    if reward == 1:\n",
    "                        wins += 1\n",
    "                        steps.append(step+1)\n",
    "                        \n",
    "                        if show_game:\n",
    "                            print(\"****You won!****\")\n",
    "                            print(\"Number of steps\", step+1)\n",
    "                            time.sleep(3)\n",
    "                            clear_output(wait=True)\n",
    "                    else:\n",
    "                        losses += 1\n",
    "                        \n",
    "                        if show_game:\n",
    "                            print(\"****You lost!****\")\n",
    "                            time.sleep(3)\n",
    "                            clear_output(wait=True)\n",
    "                    break\n",
    "\n",
    "        env.close()\n",
    "        \n",
    "        Results.loc[sim_trial , 'Won'] = wins/(n_episodes)\n",
    "        Results.loc[sim_trial , 'n_steps_before_winning_mean'] = np.mean(steps)\n",
    "        Results.loc[sim_trial , 'n_steps_before_winning_standardError'] = np.std(steps)/np.sqrt(n_episodes)\n",
    "        \n",
    "        print( 'Losses : '+str(losses)+'\\t wins : '+str(wins)+' \\t Presentage : '+str((wins /(n_episodes))*100)+'%')\n",
    "        print('Average number of steps before winning: '+str(np.mean(steps)))\n",
    "        print('Standard Error of the number of steps before winning: '+str(np.std(steps)/np.sqrt(wins)))\n",
    "        print('---')\n",
    "        \n",
    "    return Results"
   ]
  },
  {
   "cell_type": "markdown",
   "metadata": {},
   "source": [
    "---"
   ]
  },
  {
   "cell_type": "markdown",
   "metadata": {},
   "source": [
    "### Some of the experiments and the results:"
   ]
  },
  {
   "cell_type": "markdown",
   "metadata": {},
   "source": [
    "#### Varying $\\alpha$:"
   ]
  },
  {
   "cell_type": "code",
   "execution_count": 47,
   "metadata": {
    "scrolled": true
   },
   "outputs": [
    {
     "name": "stdout",
     "output_type": "stream",
     "text": [
      "Number of simulations per move:  500\n",
      "Losses : 0\t wins : 500 \t Presentage : 100.0%\n",
      "Average number of steps before winning: 9.462\n",
      "Standard Error of the number of steps before winning: 0.15393866310969445\n",
      "---\n",
      "Number of simulations per move:  500\n",
      "Losses : 1\t wins : 499 \t Presentage : 99.8%\n",
      "Average number of steps before winning: 9.162324649298597\n",
      "Standard Error of the number of steps before winning: 0.15656743661762645\n",
      "---\n",
      "Number of simulations per move:  500\n",
      "Losses : 0\t wins : 500 \t Presentage : 100.0%\n",
      "Average number of steps before winning: 8.216\n",
      "Standard Error of the number of steps before winning: 0.11434460197140922\n",
      "---\n",
      "Number of simulations per move:  500\n",
      "Losses : 0\t wins : 500 \t Presentage : 100.0%\n",
      "Average number of steps before winning: 7.64\n",
      "Standard Error of the number of steps before winning: 0.09738993787861248\n",
      "---\n",
      "Number of simulations per move:  500\n",
      "Losses : 0\t wins : 500 \t Presentage : 100.0%\n",
      "Average number of steps before winning: 7.884\n",
      "Standard Error of the number of steps before winning: 0.10436995736321827\n",
      "---\n",
      "Number of simulations per move:  500\n",
      "Losses : 0\t wins : 500 \t Presentage : 100.0%\n",
      "Average number of steps before winning: 8.67\n",
      "Standard Error of the number of steps before winning: 0.12548386350443627\n",
      "---\n",
      "Number of simulations per move:  500\n",
      "Losses : 1\t wins : 499 \t Presentage : 99.8%\n",
      "Average number of steps before winning: 9.98997995991984\n",
      "Standard Error of the number of steps before winning: 0.18413933078676106\n",
      "---\n"
     ]
    }
   ],
   "source": [
    "env = EnvWithSnapShots(gym.make(\"FrozenLake-v0\", is_slippery=True))\n",
    "\n",
    "param = [0.001, 0.01, 0.1, 0.2, 0.3, 0.4, 0.5]\n",
    "columns = ['Won', 'n_steps_before_winning_mean', 'n_steps_before_winning_standardError']\n",
    "Results_alpha = pd.DataFrame(index=param, columns=columns)\n",
    "for alpha in param:\n",
    "    Results_TDUCT = evaluate_MCTS(env, n_episodes = 500, simulation_range = range(500,501), show_game=False, w_td=1, gamma= 0.95, alpha=alpha, C=1)\n",
    "    Results_alpha.loc[alpha, 'Won'] = Results_TDUCT.iloc[0,0]\n",
    "    Results_alpha.loc[alpha, 'n_steps_before_winning_mean'] = Results_TDUCT.iloc[0,1]\n",
    "    Results_alpha.loc[alpha, 'n_steps_before_winning_standardError'] = Results_TDUCT.iloc[0,2]"
   ]
  },
  {
   "cell_type": "code",
   "execution_count": 48,
   "metadata": {},
   "outputs": [
    {
     "data": {
      "text/html": [
       "<div>\n",
       "<style scoped>\n",
       "    .dataframe tbody tr th:only-of-type {\n",
       "        vertical-align: middle;\n",
       "    }\n",
       "\n",
       "    .dataframe tbody tr th {\n",
       "        vertical-align: top;\n",
       "    }\n",
       "\n",
       "    .dataframe thead th {\n",
       "        text-align: right;\n",
       "    }\n",
       "</style>\n",
       "<table border=\"1\" class=\"dataframe\">\n",
       "  <thead>\n",
       "    <tr style=\"text-align: right;\">\n",
       "      <th></th>\n",
       "      <th>Won</th>\n",
       "      <th>n_steps_before_winning_mean</th>\n",
       "      <th>n_steps_before_winning_standardError</th>\n",
       "    </tr>\n",
       "  </thead>\n",
       "  <tbody>\n",
       "    <tr>\n",
       "      <th>0.001</th>\n",
       "      <td>1</td>\n",
       "      <td>9.462</td>\n",
       "      <td>0.153939</td>\n",
       "    </tr>\n",
       "    <tr>\n",
       "      <th>0.010</th>\n",
       "      <td>0.998</td>\n",
       "      <td>9.16232</td>\n",
       "      <td>0.156411</td>\n",
       "    </tr>\n",
       "    <tr>\n",
       "      <th>0.100</th>\n",
       "      <td>1</td>\n",
       "      <td>8.216</td>\n",
       "      <td>0.114345</td>\n",
       "    </tr>\n",
       "    <tr>\n",
       "      <th>0.200</th>\n",
       "      <td>1</td>\n",
       "      <td>7.64</td>\n",
       "      <td>0.0973899</td>\n",
       "    </tr>\n",
       "    <tr>\n",
       "      <th>0.300</th>\n",
       "      <td>1</td>\n",
       "      <td>7.884</td>\n",
       "      <td>0.10437</td>\n",
       "    </tr>\n",
       "    <tr>\n",
       "      <th>0.400</th>\n",
       "      <td>1</td>\n",
       "      <td>8.67</td>\n",
       "      <td>0.125484</td>\n",
       "    </tr>\n",
       "    <tr>\n",
       "      <th>0.500</th>\n",
       "      <td>0.998</td>\n",
       "      <td>9.98998</td>\n",
       "      <td>0.183955</td>\n",
       "    </tr>\n",
       "  </tbody>\n",
       "</table>\n",
       "</div>"
      ],
      "text/plain": [
       "         Won n_steps_before_winning_mean n_steps_before_winning_standardError\n",
       "0.001      1                       9.462                             0.153939\n",
       "0.010  0.998                     9.16232                             0.156411\n",
       "0.100      1                       8.216                             0.114345\n",
       "0.200      1                        7.64                            0.0973899\n",
       "0.300      1                       7.884                              0.10437\n",
       "0.400      1                        8.67                             0.125484\n",
       "0.500  0.998                     9.98998                             0.183955"
      ]
     },
     "execution_count": 48,
     "metadata": {},
     "output_type": "execute_result"
    }
   ],
   "source": [
    "Results_alpha"
   ]
  },
  {
   "cell_type": "code",
   "execution_count": 9,
   "metadata": {
    "scrolled": true
   },
   "outputs": [
    {
     "data": {
      "image/png": "[encoded data removed]",
      "text/plain": [
       "<Figure size 432x288 with 1 Axes>"
      ]
     },
     "metadata": {
      "needs_background": "light"
     },
     "output_type": "display_data"
    }
   ],
   "source": [
    "x = Results_alpha.index.values\n",
    "y = Results_alpha['n_steps_before_winning_mean']\n",
    "yerr = 1.96*Results_alpha['n_steps_before_winning_standardError']\n",
    "plt.errorbar(x, y, yerr=yerr, elinewidth= 1,capsize=0.9, capthick=0.9, ecolor='purple', fmt='o--',uplims=True, lolims=True , label='95% Confidence Interval')\n",
    "plt.xlabel(r'$\\alpha$')\n",
    "plt.ylabel('Average Number of Steps Before Winning')\n",
    "plt.legend()\n",
    "# plt.savefig('alpha.pdf', dpi=500, bbox_inches='tight')"
   ]
  },
  {
   "cell_type": "markdown",
   "metadata": {},
   "source": [
    "#### Varying $\\gamma$ :"
   ]
  },
  {
   "cell_type": "code",
   "execution_count": 14,
   "metadata": {
    "scrolled": true
   },
   "outputs": [
    {
     "name": "stdout",
     "output_type": "stream",
     "text": [
      "Number of simulations per move:  500\n",
      "Losses : 0\t wins : 500 \t Presentage : 100.0%\n",
      "Average number of steps before winning: 6.634\n",
      "Standard Error of the number of steps before winning: 0.043909998861307205\n",
      "---\n",
      "Number of simulations per move:  500\n",
      "Losses : 0\t wins : 500 \t Presentage : 100.0%\n",
      "Average number of steps before winning: 6.536\n",
      "Standard Error of the number of steps before winning: 0.039311677654356086\n",
      "---\n",
      "Number of simulations per move:  500\n",
      "Losses : 1\t wins : 499 \t Presentage : 99.8%\n",
      "Average number of steps before winning: 6.653306613226453\n",
      "Standard Error of the number of steps before winning: 0.04805534521677587\n",
      "---\n",
      "Number of simulations per move:  500\n",
      "Losses : 0\t wins : 500 \t Presentage : 100.0%\n",
      "Average number of steps before winning: 6.7\n",
      "Standard Error of the number of steps before winning: 0.05495452665613634\n",
      "---\n",
      "Number of simulations per move:  500\n",
      "Losses : 0\t wins : 500 \t Presentage : 100.0%\n",
      "Average number of steps before winning: 6.784\n",
      "Standard Error of the number of steps before winning: 0.055305406607311\n",
      "---\n",
      "Number of simulations per move:  500\n",
      "Losses : 0\t wins : 500 \t Presentage : 100.0%\n",
      "Average number of steps before winning: 7.12\n",
      "Standard Error of the number of steps before winning: 0.06737358532837628\n",
      "---\n",
      "Number of simulations per move:  500\n",
      "Losses : 0\t wins : 500 \t Presentage : 100.0%\n",
      "Average number of steps before winning: 7.816\n",
      "Standard Error of the number of steps before winning: 0.09933925709406125\n",
      "---\n"
     ]
    }
   ],
   "source": [
    "env = EnvWithSnapShots(gym.make(\"FrozenLake-v0\", is_slippery=True))\n",
    "\n",
    "param = np.arange(0.05,1.05,0.15)\n",
    "columns = ['Won', 'n_steps_before_winning_mean', 'n_steps_before_winning_standardError']\n",
    "Results_gamma = pd.DataFrame(index=param, columns=columns)\n",
    "for gamma in param:\n",
    "    Results_TDUCT = evaluate_MCTS(env, n_episodes=500, simulation_range = range(500,501), show_game=False, w_td=1, gamma = gamma, alpha=0.2, C=1)\n",
    "    Results_gamma.loc[gamma, 'Won'] = Results_TDUCT.iloc[0,0]\n",
    "    Results_gamma.loc[gamma, 'n_steps_before_winning_mean'] = Results_TDUCT.iloc[0,1]\n",
    "    Results_gamma.loc[gamma, 'n_steps_before_winning_standardError'] = Results_TDUCT.iloc[0,2]"
   ]
  },
  {
   "cell_type": "code",
   "execution_count": 15,
   "metadata": {},
   "outputs": [
    {
     "data": {
      "text/html": [
       "<div>\n",
       "<style scoped>\n",
       "    .dataframe tbody tr th:only-of-type {\n",
       "        vertical-align: middle;\n",
       "    }\n",
       "\n",
       "    .dataframe tbody tr th {\n",
       "        vertical-align: top;\n",
       "    }\n",
       "\n",
       "    .dataframe thead th {\n",
       "        text-align: right;\n",
       "    }\n",
       "</style>\n",
       "<table border=\"1\" class=\"dataframe\">\n",
       "  <thead>\n",
       "    <tr style=\"text-align: right;\">\n",
       "      <th></th>\n",
       "      <th>Won</th>\n",
       "      <th>n_steps_before_winning_mean</th>\n",
       "      <th>n_steps_before_winning_standardError</th>\n",
       "    </tr>\n",
       "  </thead>\n",
       "  <tbody>\n",
       "    <tr>\n",
       "      <th>0.05</th>\n",
       "      <td>1</td>\n",
       "      <td>6.634</td>\n",
       "      <td>0.04391</td>\n",
       "    </tr>\n",
       "    <tr>\n",
       "      <th>0.20</th>\n",
       "      <td>1</td>\n",
       "      <td>6.536</td>\n",
       "      <td>0.0393117</td>\n",
       "    </tr>\n",
       "    <tr>\n",
       "      <th>0.35</th>\n",
       "      <td>0.998</td>\n",
       "      <td>6.65331</td>\n",
       "      <td>0.0480073</td>\n",
       "    </tr>\n",
       "    <tr>\n",
       "      <th>0.50</th>\n",
       "      <td>1</td>\n",
       "      <td>6.7</td>\n",
       "      <td>0.0549545</td>\n",
       "    </tr>\n",
       "    <tr>\n",
       "      <th>0.65</th>\n",
       "      <td>1</td>\n",
       "      <td>6.784</td>\n",
       "      <td>0.0553054</td>\n",
       "    </tr>\n",
       "    <tr>\n",
       "      <th>0.80</th>\n",
       "      <td>1</td>\n",
       "      <td>7.12</td>\n",
       "      <td>0.0673736</td>\n",
       "    </tr>\n",
       "    <tr>\n",
       "      <th>0.95</th>\n",
       "      <td>1</td>\n",
       "      <td>7.816</td>\n",
       "      <td>0.0993393</td>\n",
       "    </tr>\n",
       "  </tbody>\n",
       "</table>\n",
       "</div>"
      ],
      "text/plain": [
       "        Won n_steps_before_winning_mean n_steps_before_winning_standardError\n",
       "0.05      1                       6.634                              0.04391\n",
       "0.20      1                       6.536                            0.0393117\n",
       "0.35  0.998                     6.65331                            0.0480073\n",
       "0.50      1                         6.7                            0.0549545\n",
       "0.65      1                       6.784                            0.0553054\n",
       "0.80      1                        7.12                            0.0673736\n",
       "0.95      1                       7.816                            0.0993393"
      ]
     },
     "execution_count": 15,
     "metadata": {},
     "output_type": "execute_result"
    }
   ],
   "source": [
    "Results_gamma"
   ]
  },
  {
   "cell_type": "code",
   "execution_count": 33,
   "metadata": {},
   "outputs": [
    {
     "data": {
      "image/png": "[encoded data removed]",
      "text/plain": [
       "<Figure size 432x288 with 1 Axes>"
      ]
     },
     "metadata": {
      "needs_background": "light"
     },
     "output_type": "display_data"
    }
   ],
   "source": [
    "x = Results_gamma.index.values\n",
    "y = Results_gamma['n_steps_before_winning_mean']\n",
    "yerr = 1.96*Results_gamma['n_steps_before_winning_standardError']\n",
    "plt.errorbar(x, y, yerr=yerr, elinewidth= 1,capsize=0.9, capthick=0.9, ecolor='purple', fmt='go--',uplims=True, lolims=True, label='95% Confidence Interval')\n",
    "plt.xticks(x)\n",
    "plt.xlabel(r'$\\gamma$')\n",
    "plt.ylabel('Average Number of Steps Before Winning')\n",
    "plt.legend()\n",
    "# plt.savefig('gamma.pdf', dpi=500, bbox_inches='tight')"
   ]
  },
  {
   "cell_type": "markdown",
   "metadata": {},
   "source": [
    "#### Varying $w_{td}$:"
   ]
  },
  {
   "cell_type": "code",
   "execution_count": 6,
   "metadata": {
    "scrolled": true
   },
   "outputs": [
    {
     "name": "stdout",
     "output_type": "stream",
     "text": [
      "Number of simulations per move:  500\n",
      "Losses : 0\t wins : 500 \t Presentage : 100.0%\n",
      "Average number of steps before winning: 7.43\n",
      "Standard Error of the number of steps before winning: 0.07553939369626948\n",
      "---\n",
      "Number of simulations per move:  500\n",
      "Losses : 0\t wins : 500 \t Presentage : 100.0%\n",
      "Average number of steps before winning: 7.422\n",
      "Standard Error of the number of steps before winning: 0.07647111873119158\n",
      "---\n",
      "Number of simulations per move:  500\n",
      "Losses : 0\t wins : 500 \t Presentage : 100.0%\n",
      "Average number of steps before winning: 7.344\n",
      "Standard Error of the number of steps before winning: 0.08180053789554198\n",
      "---\n",
      "Number of simulations per move:  500\n",
      "Losses : 0\t wins : 500 \t Presentage : 100.0%\n",
      "Average number of steps before winning: 7.2\n",
      "Standard Error of the number of steps before winning: 0.07563068160475615\n",
      "---\n",
      "Number of simulations per move:  500\n",
      "Losses : 0\t wins : 500 \t Presentage : 100.0%\n",
      "Average number of steps before winning: 7.474\n",
      "Standard Error of the number of steps before winning: 0.08869412607382746\n",
      "---\n",
      "Number of simulations per move:  500\n",
      "Losses : 0\t wins : 500 \t Presentage : 100.0%\n",
      "Average number of steps before winning: 7.464\n",
      "Standard Error of the number of steps before winning: 0.08764364209684579\n",
      "---\n",
      "Number of simulations per move:  500\n",
      "Losses : 0\t wins : 500 \t Presentage : 100.0%\n",
      "Average number of steps before winning: 7.528\n",
      "Standard Error of the number of steps before winning: 0.08663966758939003\n",
      "---\n",
      "Number of simulations per move:  500\n",
      "Losses : 0\t wins : 500 \t Presentage : 100.0%\n",
      "Average number of steps before winning: 7.648\n",
      "Standard Error of the number of steps before winning: 0.09152153844860782\n",
      "---\n",
      "Number of simulations per move:  500\n",
      "Losses : 0\t wins : 500 \t Presentage : 100.0%\n",
      "Average number of steps before winning: 7.614\n",
      "Standard Error of the number of steps before winning: 0.08640606460197107\n",
      "---\n",
      "Number of simulations per move:  500\n",
      "Losses : 0\t wins : 500 \t Presentage : 100.0%\n",
      "Average number of steps before winning: 7.568\n",
      "Standard Error of the number of steps before winning: 0.08900984215242716\n",
      "---\n",
      "Number of simulations per move:  500\n",
      "Losses : 0\t wins : 500 \t Presentage : 100.0%\n",
      "Average number of steps before winning: 6.654\n",
      "Standard Error of the number of steps before winning: 0.04804755977154303\n",
      "---\n"
     ]
    }
   ],
   "source": [
    "env = EnvWithSnapShots(gym.make(\"FrozenLake-v0\", is_slippery=True))\n",
    "\n",
    "param = np.arange(0 , 1.1 , 0.1)\n",
    "columns = ['Won', 'n_steps_before_winning_mean', 'n_steps_before_winning_standardError']\n",
    "Results_wtd = pd.DataFrame(index=param, columns=columns)\n",
    "for wtd in param:\n",
    "    Results_TDUCT = evaluate_MCTS(env, n_episodes=500, simulation_range = range(500,501), show_game= False, w_td= wtd, discount= 0.2, alpha= 0.2, C=1)\n",
    "    Results_wtd.loc[wtd, 'Won'] = Results_TDUCT.iloc[0,0]\n",
    "    Results_wtd.loc[wtd, 'n_steps_before_winning_mean'] = Results_TDUCT.iloc[0,1]\n",
    "    Results_wtd.loc[wtd, 'n_steps_before_winning_standardError'] = Results_TDUCT.iloc[0,2]"
   ]
  },
  {
   "cell_type": "code",
   "execution_count": 7,
   "metadata": {},
   "outputs": [
    {
     "data": {
      "text/html": [
       "<div>\n",
       "<style scoped>\n",
       "    .dataframe tbody tr th:only-of-type {\n",
       "        vertical-align: middle;\n",
       "    }\n",
       "\n",
       "    .dataframe tbody tr th {\n",
       "        vertical-align: top;\n",
       "    }\n",
       "\n",
       "    .dataframe thead th {\n",
       "        text-align: right;\n",
       "    }\n",
       "</style>\n",
       "<table border=\"1\" class=\"dataframe\">\n",
       "  <thead>\n",
       "    <tr style=\"text-align: right;\">\n",
       "      <th></th>\n",
       "      <th>Won</th>\n",
       "      <th>n_steps_before_winning_mean</th>\n",
       "      <th>n_steps_before_winning_standardError</th>\n",
       "    </tr>\n",
       "  </thead>\n",
       "  <tbody>\n",
       "    <tr>\n",
       "      <th>0.0</th>\n",
       "      <td>1</td>\n",
       "      <td>7.43</td>\n",
       "      <td>0.0755394</td>\n",
       "    </tr>\n",
       "    <tr>\n",
       "      <th>0.1</th>\n",
       "      <td>1</td>\n",
       "      <td>7.422</td>\n",
       "      <td>0.0764711</td>\n",
       "    </tr>\n",
       "    <tr>\n",
       "      <th>0.2</th>\n",
       "      <td>1</td>\n",
       "      <td>7.344</td>\n",
       "      <td>0.0818005</td>\n",
       "    </tr>\n",
       "    <tr>\n",
       "      <th>0.3</th>\n",
       "      <td>1</td>\n",
       "      <td>7.2</td>\n",
       "      <td>0.0756307</td>\n",
       "    </tr>\n",
       "    <tr>\n",
       "      <th>0.4</th>\n",
       "      <td>1</td>\n",
       "      <td>7.474</td>\n",
       "      <td>0.0886941</td>\n",
       "    </tr>\n",
       "    <tr>\n",
       "      <th>0.5</th>\n",
       "      <td>1</td>\n",
       "      <td>7.464</td>\n",
       "      <td>0.0876436</td>\n",
       "    </tr>\n",
       "    <tr>\n",
       "      <th>0.6</th>\n",
       "      <td>1</td>\n",
       "      <td>7.528</td>\n",
       "      <td>0.0866397</td>\n",
       "    </tr>\n",
       "    <tr>\n",
       "      <th>0.7</th>\n",
       "      <td>1</td>\n",
       "      <td>7.648</td>\n",
       "      <td>0.0915215</td>\n",
       "    </tr>\n",
       "    <tr>\n",
       "      <th>0.8</th>\n",
       "      <td>1</td>\n",
       "      <td>7.614</td>\n",
       "      <td>0.0864061</td>\n",
       "    </tr>\n",
       "    <tr>\n",
       "      <th>0.9</th>\n",
       "      <td>1</td>\n",
       "      <td>7.568</td>\n",
       "      <td>0.0890098</td>\n",
       "    </tr>\n",
       "    <tr>\n",
       "      <th>1.0</th>\n",
       "      <td>1</td>\n",
       "      <td>6.654</td>\n",
       "      <td>0.0480476</td>\n",
       "    </tr>\n",
       "  </tbody>\n",
       "</table>\n",
       "</div>"
      ],
      "text/plain": [
       "    Won n_steps_before_winning_mean n_steps_before_winning_standardError\n",
       "0.0   1                        7.43                            0.0755394\n",
       "0.1   1                       7.422                            0.0764711\n",
       "0.2   1                       7.344                            0.0818005\n",
       "0.3   1                         7.2                            0.0756307\n",
       "0.4   1                       7.474                            0.0886941\n",
       "0.5   1                       7.464                            0.0876436\n",
       "0.6   1                       7.528                            0.0866397\n",
       "0.7   1                       7.648                            0.0915215\n",
       "0.8   1                       7.614                            0.0864061\n",
       "0.9   1                       7.568                            0.0890098\n",
       "1.0   1                       6.654                            0.0480476"
      ]
     },
     "execution_count": 7,
     "metadata": {},
     "output_type": "execute_result"
    }
   ],
   "source": [
    "Results_wtd"
   ]
  },
  {
   "cell_type": "code",
   "execution_count": 10,
   "metadata": {},
   "outputs": [
    {
     "data": {
      "image/png": "[encoded data removed]",
      "text/plain": [
       "<Figure size 432x288 with 1 Axes>"
      ]
     },
     "metadata": {
      "needs_background": "light"
     },
     "output_type": "display_data"
    }
   ],
   "source": [
    "x = Results_wtd.index.values\n",
    "y = Results_wtd['n_steps_before_winning_mean']\n",
    "yerr = 1.96*Results_wtd['n_steps_before_winning_standardError']\n",
    "plt.errorbar(x, y, yerr=yerr, elinewidth= 1,capsize=0.9, capthick=0.9, ecolor='purple', fmt='yo--',uplims=True, lolims=True, label='95% Confidence Interval')\n",
    "plt.xticks(x)\n",
    "plt.xlabel(r'$w_{td}$')\n",
    "plt.ylabel('Average Number of Steps Before Winning')\n",
    "plt.legend()\n",
    "# plt.savefig('wtd.pdf', dpi=500, bbox_inches='tight')"
   ]
  },
  {
   "cell_type": "markdown",
   "metadata": {},
   "source": [
    "### Evaluating $w_{td} = 0.0$, $w_{td} = 0.3$ and $w_{td} = 1.0$ as the number of simulations per move changes:"
   ]
  },
  {
   "cell_type": "code",
   "execution_count": 7,
   "metadata": {
    "scrolled": true
   },
   "outputs": [
    {
     "name": "stdout",
     "output_type": "stream",
     "text": [
      "Number of simulations per move:  100\n",
      "Losses : 57\t wins : 443 \t Presentage : 88.6%\n",
      "Average number of steps before winning: 9.483069977426636\n",
      "Standard Error of the number of steps before winning: 0.16555100712187099\n",
      "---\n",
      "Number of simulations per move:  200\n",
      "Losses : 14\t wins : 486 \t Presentage : 97.2%\n",
      "Average number of steps before winning: 8.320987654320987\n",
      "Standard Error of the number of steps before winning: 0.12245695832261973\n",
      "---\n",
      "Number of simulations per move:  300\n",
      "Losses : 0\t wins : 500 \t Presentage : 100.0%\n",
      "Average number of steps before winning: 7.842\n",
      "Standard Error of the number of steps before winning: 0.10389452343603102\n",
      "---\n",
      "Number of simulations per move:  400\n",
      "Losses : 0\t wins : 500 \t Presentage : 100.0%\n",
      "Average number of steps before winning: 7.712\n",
      "Standard Error of the number of steps before winning: 0.09819425645117946\n",
      "---\n",
      "Number of simulations per move:  500\n",
      "Losses : 1\t wins : 499 \t Presentage : 99.8%\n",
      "Average number of steps before winning: 7.458917835671342\n",
      "Standard Error of the number of steps before winning: 0.0813515648196831\n",
      "---\n",
      "Number of simulations per move:  600\n",
      "Losses : 0\t wins : 500 \t Presentage : 100.0%\n",
      "Average number of steps before winning: 7.104\n",
      "Standard Error of the number of steps before winning: 0.06964458342182829\n",
      "---\n",
      "Number of simulations per move:  700\n",
      "Losses : 0\t wins : 500 \t Presentage : 100.0%\n",
      "Average number of steps before winning: 7.054\n",
      "Standard Error of the number of steps before winning: 0.07098005353618718\n",
      "---\n",
      "Number of simulations per move:  800\n",
      "Losses : 0\t wins : 500 \t Presentage : 100.0%\n",
      "Average number of steps before winning: 6.842\n",
      "Standard Error of the number of steps before winning: 0.05679852110750772\n",
      "---\n",
      "Number of simulations per move:  900\n",
      "Losses : 0\t wins : 500 \t Presentage : 100.0%\n",
      "Average number of steps before winning: 6.872\n",
      "Standard Error of the number of steps before winning: 0.053807360091348094\n",
      "---\n",
      "Number of simulations per move:  1000\n",
      "Losses : 0\t wins : 500 \t Presentage : 100.0%\n",
      "Average number of steps before winning: 6.668\n",
      "Standard Error of the number of steps before winning: 0.04861637584189097\n",
      "---\n"
     ]
    }
   ],
   "source": [
    "env = EnvWithSnapShots(gym.make(\"FrozenLake-v0\", is_slippery=True))\n",
    "\n",
    "Results_wtd0 = evaluate_MCTS(env, n_episodes=500, simulation_range = range(100,1100,100), show_game= False, w_td= 0, discount= 0.2, alpha= 0.2, C=1)"
   ]
  },
  {
   "cell_type": "code",
   "execution_count": 14,
   "metadata": {},
   "outputs": [
    {
     "data": {
      "text/html": [
       "<div>\n",
       "<style scoped>\n",
       "    .dataframe tbody tr th:only-of-type {\n",
       "        vertical-align: middle;\n",
       "    }\n",
       "\n",
       "    .dataframe tbody tr th {\n",
       "        vertical-align: top;\n",
       "    }\n",
       "\n",
       "    .dataframe thead th {\n",
       "        text-align: right;\n",
       "    }\n",
       "</style>\n",
       "<table border=\"1\" class=\"dataframe\">\n",
       "  <thead>\n",
       "    <tr style=\"text-align: right;\">\n",
       "      <th></th>\n",
       "      <th>Won</th>\n",
       "      <th>n_steps_before_winning_mean</th>\n",
       "      <th>n_steps_before_winning_standardError</th>\n",
       "    </tr>\n",
       "  </thead>\n",
       "  <tbody>\n",
       "    <tr>\n",
       "      <th>100</th>\n",
       "      <td>0.886</td>\n",
       "      <td>9.48307</td>\n",
       "      <td>0.155829</td>\n",
       "    </tr>\n",
       "    <tr>\n",
       "      <th>200</th>\n",
       "      <td>0.972</td>\n",
       "      <td>8.32099</td>\n",
       "      <td>0.12073</td>\n",
       "    </tr>\n",
       "    <tr>\n",
       "      <th>300</th>\n",
       "      <td>1</td>\n",
       "      <td>7.842</td>\n",
       "      <td>0.103895</td>\n",
       "    </tr>\n",
       "    <tr>\n",
       "      <th>400</th>\n",
       "      <td>1</td>\n",
       "      <td>7.712</td>\n",
       "      <td>0.0981943</td>\n",
       "    </tr>\n",
       "    <tr>\n",
       "      <th>500</th>\n",
       "      <td>0.998</td>\n",
       "      <td>7.45892</td>\n",
       "      <td>0.0812702</td>\n",
       "    </tr>\n",
       "    <tr>\n",
       "      <th>600</th>\n",
       "      <td>1</td>\n",
       "      <td>7.104</td>\n",
       "      <td>0.0696446</td>\n",
       "    </tr>\n",
       "    <tr>\n",
       "      <th>700</th>\n",
       "      <td>1</td>\n",
       "      <td>7.054</td>\n",
       "      <td>0.0709801</td>\n",
       "    </tr>\n",
       "    <tr>\n",
       "      <th>800</th>\n",
       "      <td>1</td>\n",
       "      <td>6.842</td>\n",
       "      <td>0.0567985</td>\n",
       "    </tr>\n",
       "    <tr>\n",
       "      <th>900</th>\n",
       "      <td>1</td>\n",
       "      <td>6.872</td>\n",
       "      <td>0.0538074</td>\n",
       "    </tr>\n",
       "    <tr>\n",
       "      <th>1000</th>\n",
       "      <td>1</td>\n",
       "      <td>6.668</td>\n",
       "      <td>0.0486164</td>\n",
       "    </tr>\n",
       "  </tbody>\n",
       "</table>\n",
       "</div>"
      ],
      "text/plain": [
       "        Won n_steps_before_winning_mean n_steps_before_winning_standardError\n",
       "100   0.886                     9.48307                             0.155829\n",
       "200   0.972                     8.32099                              0.12073\n",
       "300       1                       7.842                             0.103895\n",
       "400       1                       7.712                            0.0981943\n",
       "500   0.998                     7.45892                            0.0812702\n",
       "600       1                       7.104                            0.0696446\n",
       "700       1                       7.054                            0.0709801\n",
       "800       1                       6.842                            0.0567985\n",
       "900       1                       6.872                            0.0538074\n",
       "1000      1                       6.668                            0.0486164"
      ]
     },
     "execution_count": 14,
     "metadata": {},
     "output_type": "execute_result"
    }
   ],
   "source": [
    "Results_wtd0"
   ]
  },
  {
   "cell_type": "code",
   "execution_count": 6,
   "metadata": {
    "scrolled": true
   },
   "outputs": [
    {
     "name": "stdout",
     "output_type": "stream",
     "text": [
      "Number of simulations per move:  100\n",
      "Losses : 66\t wins : 434 \t Presentage : 86.8%\n",
      "Average number of steps before winning: 9.080645161290322\n",
      "Standard Error of the number of steps before winning: 0.1772573534630442\n",
      "---\n",
      "Number of simulations per move:  200\n",
      "Losses : 15\t wins : 485 \t Presentage : 97.0%\n",
      "Average number of steps before winning: 8.542268041237113\n",
      "Standard Error of the number of steps before winning: 0.1330237869686384\n",
      "---\n",
      "Number of simulations per move:  300\n",
      "Losses : 4\t wins : 496 \t Presentage : 99.2%\n",
      "Average number of steps before winning: 7.69758064516129\n",
      "Standard Error of the number of steps before winning: 0.09453553780284672\n",
      "---\n",
      "Number of simulations per move:  400\n",
      "Losses : 0\t wins : 500 \t Presentage : 100.0%\n",
      "Average number of steps before winning: 7.482\n",
      "Standard Error of the number of steps before winning: 0.08608920954451842\n",
      "---\n",
      "Number of simulations per move:  500\n",
      "Losses : 0\t wins : 500 \t Presentage : 100.0%\n",
      "Average number of steps before winning: 7.196\n",
      "Standard Error of the number of steps before winning: 0.07581007848564728\n",
      "---\n",
      "Number of simulations per move:  600\n",
      "Losses : 0\t wins : 500 \t Presentage : 100.0%\n",
      "Average number of steps before winning: 7.276\n",
      "Standard Error of the number of steps before winning: 0.07750901883006904\n",
      "---\n",
      "Number of simulations per move:  700\n",
      "Losses : 0\t wins : 500 \t Presentage : 100.0%\n",
      "Average number of steps before winning: 7.07\n",
      "Standard Error of the number of steps before winning: 0.0631996835435115\n",
      "---\n",
      "Number of simulations per move:  800\n",
      "Losses : 0\t wins : 500 \t Presentage : 100.0%\n",
      "Average number of steps before winning: 7.032\n",
      "Standard Error of the number of steps before winning: 0.06214460555832661\n",
      "---\n",
      "Number of simulations per move:  900\n",
      "Losses : 0\t wins : 500 \t Presentage : 100.0%\n",
      "Average number of steps before winning: 6.938\n",
      "Standard Error of the number of steps before winning: 0.0564651396881297\n",
      "---\n",
      "Number of simulations per move:  1000\n",
      "Losses : 0\t wins : 500 \t Presentage : 100.0%\n",
      "Average number of steps before winning: 6.726\n",
      "Standard Error of the number of steps before winning: 0.05159310031389856\n",
      "---\n"
     ]
    }
   ],
   "source": [
    "env = EnvWithSnapShots(gym.make(\"FrozenLake-v0\", is_slippery=True))\n",
    "\n",
    "Results_wtd03 = evaluate_MCTS(env, n_episodes=500, simulation_range = range(100,1100,100), show_game= False, w_td= 0.3, discount= 0.2, alpha= 0.2, C=1)"
   ]
  },
  {
   "cell_type": "code",
   "execution_count": 7,
   "metadata": {},
   "outputs": [
    {
     "data": {
      "text/html": [
       "<div>\n",
       "<style scoped>\n",
       "    .dataframe tbody tr th:only-of-type {\n",
       "        vertical-align: middle;\n",
       "    }\n",
       "\n",
       "    .dataframe tbody tr th {\n",
       "        vertical-align: top;\n",
       "    }\n",
       "\n",
       "    .dataframe thead th {\n",
       "        text-align: right;\n",
       "    }\n",
       "</style>\n",
       "<table border=\"1\" class=\"dataframe\">\n",
       "  <thead>\n",
       "    <tr style=\"text-align: right;\">\n",
       "      <th></th>\n",
       "      <th>Won</th>\n",
       "      <th>n_steps_before_winning_mean</th>\n",
       "      <th>n_steps_before_winning_standardError</th>\n",
       "    </tr>\n",
       "  </thead>\n",
       "  <tbody>\n",
       "    <tr>\n",
       "      <th>100</th>\n",
       "      <td>0.868</td>\n",
       "      <td>9.08065</td>\n",
       "      <td>0.165145</td>\n",
       "    </tr>\n",
       "    <tr>\n",
       "      <th>200</th>\n",
       "      <td>0.97</td>\n",
       "      <td>8.54227</td>\n",
       "      <td>0.131013</td>\n",
       "    </tr>\n",
       "    <tr>\n",
       "      <th>300</th>\n",
       "      <td>0.992</td>\n",
       "      <td>7.69758</td>\n",
       "      <td>0.0941566</td>\n",
       "    </tr>\n",
       "    <tr>\n",
       "      <th>400</th>\n",
       "      <td>1</td>\n",
       "      <td>7.482</td>\n",
       "      <td>0.0860892</td>\n",
       "    </tr>\n",
       "    <tr>\n",
       "      <th>500</th>\n",
       "      <td>1</td>\n",
       "      <td>7.196</td>\n",
       "      <td>0.0758101</td>\n",
       "    </tr>\n",
       "    <tr>\n",
       "      <th>600</th>\n",
       "      <td>1</td>\n",
       "      <td>7.276</td>\n",
       "      <td>0.077509</td>\n",
       "    </tr>\n",
       "    <tr>\n",
       "      <th>700</th>\n",
       "      <td>1</td>\n",
       "      <td>7.07</td>\n",
       "      <td>0.0631997</td>\n",
       "    </tr>\n",
       "    <tr>\n",
       "      <th>800</th>\n",
       "      <td>1</td>\n",
       "      <td>7.032</td>\n",
       "      <td>0.0621446</td>\n",
       "    </tr>\n",
       "    <tr>\n",
       "      <th>900</th>\n",
       "      <td>1</td>\n",
       "      <td>6.938</td>\n",
       "      <td>0.0564651</td>\n",
       "    </tr>\n",
       "    <tr>\n",
       "      <th>1000</th>\n",
       "      <td>1</td>\n",
       "      <td>6.726</td>\n",
       "      <td>0.0515931</td>\n",
       "    </tr>\n",
       "  </tbody>\n",
       "</table>\n",
       "</div>"
      ],
      "text/plain": [
       "        Won n_steps_before_winning_mean n_steps_before_winning_standardError\n",
       "100   0.868                     9.08065                             0.165145\n",
       "200    0.97                     8.54227                             0.131013\n",
       "300   0.992                     7.69758                            0.0941566\n",
       "400       1                       7.482                            0.0860892\n",
       "500       1                       7.196                            0.0758101\n",
       "600       1                       7.276                             0.077509\n",
       "700       1                        7.07                            0.0631997\n",
       "800       1                       7.032                            0.0621446\n",
       "900       1                       6.938                            0.0564651\n",
       "1000      1                       6.726                            0.0515931"
      ]
     },
     "execution_count": 7,
     "metadata": {},
     "output_type": "execute_result"
    }
   ],
   "source": [
    "Results_wtd03"
   ]
  },
  {
   "cell_type": "code",
   "execution_count": 6,
   "metadata": {
    "scrolled": true
   },
   "outputs": [
    {
     "name": "stdout",
     "output_type": "stream",
     "text": [
      "Number of simulations per move:  100\n",
      "Losses : 59\t wins : 441 \t Presentage : 88.2%\n",
      "Average number of steps before winning: 8.53968253968254\n",
      "Standard Error of the number of steps before winning: 0.13092279226255313\n",
      "---\n",
      "Number of simulations per move:  200\n",
      "Losses : 22\t wins : 478 \t Presentage : 95.6%\n",
      "Average number of steps before winning: 7.619246861924686\n",
      "Standard Error of the number of steps before winning: 0.08833068378127011\n",
      "---\n",
      "Number of simulations per move:  300\n",
      "Losses : 2\t wins : 498 \t Presentage : 99.6%\n",
      "Average number of steps before winning: 7.106425702811245\n",
      "Standard Error of the number of steps before winning: 0.06694188358399965\n",
      "---\n",
      "Number of simulations per move:  400\n",
      "Losses : 1\t wins : 499 \t Presentage : 99.8%\n",
      "Average number of steps before winning: 6.839679358717435\n",
      "Standard Error of the number of steps before winning: 0.060492313872591026\n",
      "---\n",
      "Number of simulations per move:  500\n",
      "Losses : 0\t wins : 500 \t Presentage : 100.0%\n",
      "Average number of steps before winning: 6.72\n",
      "Standard Error of the number of steps before winning: 0.04836527680061389\n",
      "---\n",
      "Number of simulations per move:  600\n",
      "Losses : 0\t wins : 500 \t Presentage : 100.0%\n",
      "Average number of steps before winning: 6.592\n",
      "Standard Error of the number of steps before winning: 0.04274426277291491\n",
      "---\n",
      "Number of simulations per move:  700\n",
      "Losses : 0\t wins : 500 \t Presentage : 100.0%\n",
      "Average number of steps before winning: 6.504\n",
      "Standard Error of the number of steps before winning: 0.03768246276452748\n",
      "---\n",
      "Number of simulations per move:  800\n",
      "Losses : 0\t wins : 500 \t Presentage : 100.0%\n",
      "Average number of steps before winning: 6.374\n",
      "Standard Error of the number of steps before winning: 0.03292792128270474\n",
      "---\n",
      "Number of simulations per move:  900\n",
      "Losses : 0\t wins : 500 \t Presentage : 100.0%\n",
      "Average number of steps before winning: 6.292\n",
      "Standard Error of the number of steps before winning: 0.026028292298958068\n",
      "---\n",
      "Number of simulations per move:  1000\n",
      "Losses : 0\t wins : 500 \t Presentage : 100.0%\n",
      "Average number of steps before winning: 6.258\n",
      "Standard Error of the number of steps before winning: 0.02696056379232452\n",
      "---\n"
     ]
    }
   ],
   "source": [
    "env = EnvWithSnapShots(gym.make(\"FrozenLake-v0\", is_slippery=True))\n",
    "\n",
    "Results_wtd1 = evaluate_MCTS(env, n_episodes=500, simulation_range = range(100,1100,100), show_game= False, w_td= 1, discount= 0.2, alpha= 0.2, C=1)"
   ]
  },
  {
   "cell_type": "code",
   "execution_count": 15,
   "metadata": {
    "scrolled": true
   },
   "outputs": [
    {
     "data": {
      "text/html": [
       "<div>\n",
       "<style scoped>\n",
       "    .dataframe tbody tr th:only-of-type {\n",
       "        vertical-align: middle;\n",
       "    }\n",
       "\n",
       "    .dataframe tbody tr th {\n",
       "        vertical-align: top;\n",
       "    }\n",
       "\n",
       "    .dataframe thead th {\n",
       "        text-align: right;\n",
       "    }\n",
       "</style>\n",
       "<table border=\"1\" class=\"dataframe\">\n",
       "  <thead>\n",
       "    <tr style=\"text-align: right;\">\n",
       "      <th></th>\n",
       "      <th>Won</th>\n",
       "      <th>n_steps_before_winning_mean</th>\n",
       "      <th>n_steps_before_winning_standardError</th>\n",
       "    </tr>\n",
       "  </thead>\n",
       "  <tbody>\n",
       "    <tr>\n",
       "      <th>100</th>\n",
       "      <td>0.882</td>\n",
       "      <td>8.53968</td>\n",
       "      <td>0.122956</td>\n",
       "    </tr>\n",
       "    <tr>\n",
       "      <th>200</th>\n",
       "      <td>0.956</td>\n",
       "      <td>7.61925</td>\n",
       "      <td>0.0863655</td>\n",
       "    </tr>\n",
       "    <tr>\n",
       "      <th>300</th>\n",
       "      <td>0.996</td>\n",
       "      <td>7.10643</td>\n",
       "      <td>0.0668079</td>\n",
       "    </tr>\n",
       "    <tr>\n",
       "      <th>400</th>\n",
       "      <td>0.998</td>\n",
       "      <td>6.83968</td>\n",
       "      <td>0.0604318</td>\n",
       "    </tr>\n",
       "    <tr>\n",
       "      <th>500</th>\n",
       "      <td>1</td>\n",
       "      <td>6.72</td>\n",
       "      <td>0.0483653</td>\n",
       "    </tr>\n",
       "    <tr>\n",
       "      <th>600</th>\n",
       "      <td>1</td>\n",
       "      <td>6.592</td>\n",
       "      <td>0.0427443</td>\n",
       "    </tr>\n",
       "    <tr>\n",
       "      <th>700</th>\n",
       "      <td>1</td>\n",
       "      <td>6.504</td>\n",
       "      <td>0.0376825</td>\n",
       "    </tr>\n",
       "    <tr>\n",
       "      <th>800</th>\n",
       "      <td>1</td>\n",
       "      <td>6.374</td>\n",
       "      <td>0.0329279</td>\n",
       "    </tr>\n",
       "    <tr>\n",
       "      <th>900</th>\n",
       "      <td>1</td>\n",
       "      <td>6.292</td>\n",
       "      <td>0.0260283</td>\n",
       "    </tr>\n",
       "    <tr>\n",
       "      <th>1000</th>\n",
       "      <td>1</td>\n",
       "      <td>6.258</td>\n",
       "      <td>0.0269606</td>\n",
       "    </tr>\n",
       "  </tbody>\n",
       "</table>\n",
       "</div>"
      ],
      "text/plain": [
       "        Won n_steps_before_winning_mean n_steps_before_winning_standardError\n",
       "100   0.882                     8.53968                             0.122956\n",
       "200   0.956                     7.61925                            0.0863655\n",
       "300   0.996                     7.10643                            0.0668079\n",
       "400   0.998                     6.83968                            0.0604318\n",
       "500       1                        6.72                            0.0483653\n",
       "600       1                       6.592                            0.0427443\n",
       "700       1                       6.504                            0.0376825\n",
       "800       1                       6.374                            0.0329279\n",
       "900       1                       6.292                            0.0260283\n",
       "1000      1                       6.258                            0.0269606"
      ]
     },
     "execution_count": 15,
     "metadata": {},
     "output_type": "execute_result"
    }
   ],
   "source": [
    "Results_wtd1"
   ]
  },
  {
   "cell_type": "code",
   "execution_count": 103,
   "metadata": {},
   "outputs": [
    {
     "data": {
      "image/png": "[encoded data removed]",
      "text/plain": [
       "<Figure size 432x288 with 1 Axes>"
      ]
     },
     "metadata": {
      "needs_background": "light"
     },
     "output_type": "display_data"
    }
   ],
   "source": [
    "x = Results_wtd0.index.values\n",
    "y0 = Results_wtd0['Won']\n",
    "y1 = Results_wtd1['Won']\n",
    "y03 = Results_wtd03['Won']\n",
    "\n",
    "plt.plot(x, y0, marker = 'o', color='C7', label = r'$w_{td} = 0 \\equiv UCT$')\n",
    "plt.plot(x, y03, marker = 'o', color='C9', label = r'$w_{td} = 0.3$')\n",
    "plt.plot(x, y1, marker = 'o', color='C1', label = r'$w_{td} = 1$')\n",
    "\n",
    "plt.xticks(x)\n",
    "plt.xlabel('Simulations per Move')\n",
    "plt.ylabel('Number of Won episodes / 500')\n",
    "plt.legend()\n",
    "# plt.savefig('wtd0wtd1Acc.pdf', dpi=500, bbox_inches='tight')"
   ]
  },
  {
   "cell_type": "code",
   "execution_count": 104,
   "metadata": {},
   "outputs": [
    {
     "data": {
      "image/png": "[encoded data removed]",
      "text/plain": [
       "<Figure size 432x288 with 1 Axes>"
      ]
     },
     "metadata": {
      "needs_background": "light"
     },
     "output_type": "display_data"
    }
   ],
   "source": [
    "x = Results_wtd0.index.values\n",
    "y0 = Results_wtd0['n_steps_before_winning_mean']\n",
    "y03 = Results_wtd03['n_steps_before_winning_mean']\n",
    "y1 = Results_wtd1['n_steps_before_winning_mean']\n",
    "\n",
    "yerr0 = 1.96*Results_wtd0['n_steps_before_winning_standardError']\n",
    "yerr03 = 1.96*Results_wtd03['n_steps_before_winning_standardError']\n",
    "yerr1 = 1.96*Results_wtd1['n_steps_before_winning_standardError']\n",
    "\n",
    "plt.errorbar(x, y0, yerr=yerr0, elinewidth= 1,capsize=0.9, capthick=0.9, ecolor='purple', fmt='C7o--',uplims=True, lolims=True, label=r'$w_{td} = 0 \\equiv UCT$')\n",
    "plt.errorbar(x, y03, yerr=yerr0, elinewidth= 1,capsize=0.9, capthick=0.9, ecolor='purple', fmt='C9o--',uplims=True, lolims=True, label=r'$w_{td} = 0.3$')\n",
    "plt.errorbar(x, y1, yerr=yerr1, elinewidth= 1,capsize=0.9, capthick=0.9, ecolor='purple', fmt='C1o--',uplims=True, lolims=True, label=r'$w_{td} = 1$')\n",
    "\n",
    "plt.xticks(x)\n",
    "plt.xlabel('Simulations per Move')\n",
    "plt.ylabel('Average Number of Steps Before Winning')\n",
    "plt.legend()\n",
    "# plt.savefig('wtd0wtd1.pdf', dpi=500, bbox_inches='tight')"
   ]
  },
  {
   "cell_type": "markdown",
   "metadata": {},
   "source": [
    "#### The paired t-tests:"
   ]
  },
  {
   "cell_type": "code",
   "execution_count": 101,
   "metadata": {},
   "outputs": [
    {
     "data": {
      "text/plain": [
       "Ttest_relResult(statistic=0.4647014836172124, pvalue=0.6531824549741445)"
      ]
     },
     "execution_count": 101,
     "metadata": {},
     "output_type": "execute_result"
    }
   ],
   "source": [
    "stats.ttest_rel(y0, y03)"
   ]
  },
  {
   "cell_type": "code",
   "execution_count": 19,
   "metadata": {},
   "outputs": [
    {
     "data": {
      "text/plain": [
       "Ttest_relResult(statistic=11.7154838074007, pvalue=9.443622506612187e-07)"
      ]
     },
     "execution_count": 19,
     "metadata": {},
     "output_type": "execute_result"
    }
   ],
   "source": [
    "stats.ttest_rel(y0, y1)"
   ]
  },
  {
   "cell_type": "code",
   "execution_count": 102,
   "metadata": {},
   "outputs": [
    {
     "data": {
      "text/plain": [
       "Ttest_relResult(statistic=15.057281216654653, pvalue=1.0913649660981643e-07)"
      ]
     },
     "execution_count": 102,
     "metadata": {},
     "output_type": "execute_result"
    }
   ],
   "source": [
    "stats.ttest_rel(y03, y1)"
   ]
  },
  {
   "cell_type": "markdown",
   "metadata": {},
   "source": [
    "### A sample game play:\n",
    "##### (you can run it :D)"
   ]
  },
  {
   "cell_type": "code",
   "execution_count": 9,
   "metadata": {
    "scrolled": false
   },
   "outputs": [
    {
     "name": "stdout",
     "output_type": "stream",
     "text": [
      "Losses : 0\t wins : 10 \t Presentage : 100.0%\n",
      "Average number of steps before winning: 6.6\n",
      "Standard Error of the number of steps before winning: 0.32249030993194194\n",
      "---\n"
     ]
    }
   ],
   "source": [
    "env = EnvWithSnapShots(gym.make(\"FrozenLake-v0\", is_slippery=True))\n",
    "\n",
    "Results_TDUCT = evaluate_MCTS(env, n_episodes=10, simulation_range = range(500,501), show_game= True, w_td= 1, gamma= 0.2, alpha= 0.2, C=1)"
   ]
  },
  {
   "cell_type": "code",
   "execution_count": null,
   "metadata": {},
   "outputs": [],
   "source": []
  }
 ],
 "metadata": {
  "kernelspec": {
   "display_name": "Python 3",
   "language": "python",
   "name": "python3"
  },
  "language_info": {
   "codemirror_mode": {
    "name": "ipython",
    "version": 3
   },
   "file_extension": ".py",
   "mimetype": "text/x-python",
   "name": "python",
   "nbconvert_exporter": "python",
   "pygments_lexer": "ipython3",
   "version": "3.7.5"
  }
 },
 "nbformat": 4,
 "nbformat_minor": 2
}
